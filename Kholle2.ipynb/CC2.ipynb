{
 "cells": [
  {
   "cell_type": "code",
   "execution_count": 1,
   "metadata": {},
   "outputs": [
    {
     "data": {
      "text/plain": [
       "[2, 5, 2]"
      ]
     },
     "execution_count": 1,
     "metadata": {},
     "output_type": "execute_result"
    }
   ],
   "source": [
    "\"\"\"exercice 1\"\"\"\n",
    "def divise(l1,l2):\n",
    "    L=[]\n",
    "    for i in range(len(l1)):\n",
    "        for j in range(len(l2)):\n",
    "            if i == j:\n",
    "                L.append(l1[i]//l2[j])\n",
    "            else:\n",
    "                pass\n",
    "    return L\n",
    "\n",
    "divise([10,11,8],[5,2,4])"
   ]
  },
  {
   "cell_type": "code",
   "execution_count": 10,
   "metadata": {},
   "outputs": [
    {
     "name": "stdout",
     "output_type": "stream",
     "text": [
      "[[0, 0, 0, 0, 0, 0, 0], [0, 0, 0, 0, 0, 0, 0], [0, 0, 0, 0, 0, 0, 0], [0, 0, 0, 0, 0, 0, 0], [0, 0, 0, 0, 0, 0, 0], [0, 0, 0, 0, 0, 0, 0], [0, 0, 0, 0, 0, 0, 0]]\n",
      "\n",
      "[0, 0, 0, 0, 0, 0, 0]\n",
      "[0, 0, 0, 0, 0, 0, 0]\n",
      "[0, 0, 0, 0, 0, 0, 0]\n",
      "[0, 0, 0, 0, 0, 0, 0]\n",
      "[0, 0, 0, 0, 0, 0, 0]\n",
      "[0, 0, 0, 0, 0, 0, 0]\n",
      "[0, 0, 0, 0, 0, 0, 0]\n",
      "\n",
      "[[0, 0, 0, 0, 0, 0, 0], [0, 0, 0, 0, 0, 0, 0], [0, 0, 0, 0, 0, 0, 0], [0, 0, 0, 0, 0, 0, 0], [0, 0, 0, 0, 0, 0, 0], [0, 0, 0, 0, 0, 0, 0], [0, 0, 0, 1, 0, 0, 0]]\n",
      "\n",
      "[0, 0, 0, 0, 0, 0, 0]\n",
      "[0, 0, 0, 0, 0, 0, 0]\n",
      "[0, 0, 0, 0, 0, 0, 0]\n",
      "[0, 0, 0, 0, 0, 0, 0]\n",
      "[0, 0, 0, 0, 0, 0, 0]\n",
      "[0, 0, 0, 0, 0, 0, 0]\n",
      "[0, 0, 0, 1, 0, 0, 0]\n",
      "\n",
      "6 3\n"
     ]
    }
   ],
   "source": [
    "\"\"\"créer 7 listes de 7 sous élements = 0\"\"\"\n",
    "import random\n",
    "a,b=7,7\n",
    "L=[[0]*a for i in range(0,b)]\n",
    "print(L)\n",
    "print()\n",
    "\n",
    "for ligne in L: #affiche la liste sous forme de matrice\n",
    "    print(ligne)\n",
    "print()\n",
    "\n",
    "def placerun(liste):\n",
    "    \"\"\"remplace un sous élément 0 d'une des liste par un 1 aléatoirement\"\"\"\n",
    "    c = random.randint(0,6)\n",
    "    d = random.randint(0,6)\n",
    "    L[d][c] = 1\n",
    "    return L\n",
    "\n",
    "print(placerun(L))\n",
    "print()\n",
    "\n",
    "for ligne in L:\n",
    "    print(ligne)\n",
    "print()\n",
    "\n",
    "def deplacerun(liste):\n",
    "    for i in range(len(L)):\n",
    "        if 1 in L[i]:\n",
    "            a=i\n",
    "            b=L[i].index(1)\n",
    "        print(a,b)\n",
    "\n",
    "\n",
    "    \n",
    "\n"
   ]
  },
  {
   "cell_type": "code",
   "execution_count": null,
   "metadata": {},
   "outputs": [],
   "source": []
  }
 ],
 "metadata": {
  "interpreter": {
   "hash": "ab31f592d35b0e239154db3e97206cd52e3048ae051ba621a57c5d50520b4e6e"
  },
  "kernelspec": {
   "display_name": "Python 3.9.7 64-bit ('l1-python': conda)",
   "language": "python",
   "name": "python3"
  },
  "language_info": {
   "codemirror_mode": {
    "name": "ipython",
    "version": 3
   },
   "file_extension": ".py",
   "mimetype": "text/x-python",
   "name": "python",
   "nbconvert_exporter": "python",
   "pygments_lexer": "ipython3",
   "version": "3.9.7"
  },
  "orig_nbformat": 4
 },
 "nbformat": 4,
 "nbformat_minor": 2
}
