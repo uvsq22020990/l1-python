{
 "cells": [
  {
   "cell_type": "code",
   "execution_count": null,
   "metadata": {},
   "outputs": [],
   "source": [
    "#exercice 1\n",
    "a = 10\n",
    "print(a//2) #division entière\n",
    "print(a%2) #modulo : reste de la division euclidienne (ici par 2)"
   ]
  },
  {
   "cell_type": "code",
   "execution_count": null,
   "metadata": {},
   "outputs": [],
   "source": [
    "#le modulo permet par exemple de connaître le dernier chiffre d'un très grand nombre:\n",
    "s = 3**37\n",
    "print(s)\n",
    "print(s%10)"
   ]
  },
  {
   "cell_type": "code",
   "execution_count": null,
   "metadata": {},
   "outputs": [],
   "source": [
    "#exercice 2\n",
    "meteo_samedi = input(\"choisis la météo : soleil ou pluie\")\n",
    "meteo_dimanche = input(\"choisir la météo : soleil ou pluie\")\n",
    "if meteo_samedi == \"soleil\" and meteo_dimanche == \"soleil\":\n",
    "    print(\"je pars en week-end\")\n",
    "elif meteo_samedi == \"soleil\" or meteo_dimanche == \"soleil\":\n",
    "    print(\"je vais me promener\")\n",
    "else: \n",
    "    print(\"je reste au lit tout le week-end\")"
   ]
  },
  {
   "cell_type": "code",
   "execution_count": null,
   "metadata": {},
   "outputs": [],
   "source": [
    "#exercice 3 : écrire les 10 nombres précédent celui choisis par l'utilisateur\n",
    "n = int(input())\n",
    "n=n-1\n",
    "for i in range(10):\n",
    "    print(n-i)"
   ]
  },
  {
   "cell_type": "code",
   "execution_count": null,
   "metadata": {},
   "outputs": [],
   "source": [
    "#exercice 3 alternatif:\n",
    "n = int(input(\"nombre de départ\"))\n",
    "for i in reversed(range(n)): #il est possible d'utiliser la fonction \"reversed(range(x))\" cependant la valeur décroit de 1 jusqu'à 0 et non 10\n",
    "    print(i)\n",
    "\n",
    "#attention donne tout les chiffres précédent pas que 10"
   ]
  },
  {
   "cell_type": "code",
   "execution_count": null,
   "metadata": {},
   "outputs": [],
   "source": []
  }
 ],
 "metadata": {
  "interpreter": {
   "hash": "385ec2fc4019c634830f3dccfcb550895a33660b3df9ea11f796c16253854c19"
  },
  "kernelspec": {
   "display_name": "Python 3.9.5 64-bit ('base': conda)",
   "name": "python3"
  },
  "language_info": {
   "codemirror_mode": {
    "name": "ipython",
    "version": 3
   },
   "file_extension": ".py",
   "mimetype": "text/x-python",
   "name": "python",
   "nbconvert_exporter": "python",
   "pygments_lexer": "ipython3",
   "version": "3.9.5"
  },
  "orig_nbformat": 4
 },
 "nbformat": 4,
 "nbformat_minor": 2
}
