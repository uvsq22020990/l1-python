{
 "cells": [
  {
   "cell_type": "code",
   "execution_count": null,
   "metadata": {},
   "outputs": [],
   "source": [
    "#Créer la fonction qui prend comme argument le temps et renvoie le nombre de seconde total correspondant à ce temps.\n",
    "\n",
    "def tempsEnSeconde(temps):\n",
    "    \"\"\"Renvoie la valeur en seconde de temps donné comme jour, heure, minute, seconde.\"\"\"\n",
    "    return temps[0]*24*60*60+temps[1]*60*60+temps[2]*60+temps[3]\n",
    "\n",
    "temps = (3,23,1,34)\n",
    "print(type(temps))\n",
    "print(tempsEnSeconde(temps))  #on donne à la fonction un arguments : tuples (c'est le temps) et me retourne un nombre de secondes"
   ]
  },
  {
   "cell_type": "code",
   "execution_count": null,
   "metadata": {},
   "outputs": [],
   "source": [
    "##Créer la fonction qui prend un nombre de secondes et renvoie le temps correspondant.\n",
    "\n",
    "def secondeEnTemps(seconde):\n",
    "    \"\"\"Renvoie le temps (jour, heure, minute, seconde) qui correspond au nombre de seconde passé en argument\"\"\"\n",
    "    jour = int(seconde / (24*60*60))\n",
    "    seconde = seconde % (24*60*60)\n",
    "    heures = int(seconde / (60*60))\n",
    "    seconde = seconde % (60*60)\n",
    "    minutes = int(seconde / 60)\n",
    "    secs = seconde % 60\n",
    "    return (jour, heures, minutes, secs)\n",
    "\n",
    "assert secondeEnTemps(tempsEnSeconde((3,5,6,8))) == (3,5,6,8)\n",
    "\n",
    "temps = secondeEnTemps(100000)\n",
    "print(temps)\n",
    "print(temps[0],\"jours\",temps[1],\"heures\",temps[2],\"minutes\",temps[3],\"secondes\")"
   ]
  },
  {
   "cell_type": "code",
   "execution_count": null,
   "metadata": {},
   "outputs": [],
   "source": [
    "#Vous pouvez écrire une fonction qui affiche un mot au pluriel ou non, appelée ensuite plusieurs fois par `afficheTemps` pour simplifier votre code.\n",
    "\n",
    "def pluriel(chaine,valeur):\n",
    "    \"\"\"Détermine si une valeur doit être écrite au pluriel ou non\"\"\"\n",
    "    if valeur > 1:\n",
    "        return str(valeur) + \" \" + chaine+\"s\"\n",
    "    elif valeur == 0:\n",
    "        return \"\"\n",
    "    else:\n",
    "        return str(valeur) + \" \" + chaine\n",
    "   \n",
    "temps = (1,0,14,13) \n",
    "print(pluriel(\"jour\", 0))\n",
    "        "
   ]
  },
  {
   "cell_type": "code",
   "execution_count": null,
   "metadata": {},
   "outputs": [],
   "source": [
    "#Créer une fonction d'affichage d'un temps `afficheTemps`. \n",
    "#Attention, les mots jour, heure et seconde doivent être au pluriel s'il y en a plusieurs. S'il y en a zéro, ils ne doivent pas apparaître.\n",
    "#print(message, end=\"\")` permet de ne pas sauter une ligne après un print.\n",
    "\n",
    "def afficheTemps(temps):\n",
    "    \"\"\"Affiche une phrase qui indique à quoi chaque valeur de mon tuples (la valeur de temps) correspond\"\"\"\n",
    "    print(\"mon temps est:\", pluriel(\"jour\",temps[0]), pluriel(\"heure\",temps[1]), pluriel(\"minute\",temps[2]), pluriel(\"seconde\",temps[3]))\n",
    "    \n",
    "afficheTemps((2,0,14,23))  "
   ]
  },
  {
   "cell_type": "code",
   "execution_count": null,
   "metadata": {},
   "outputs": [],
   "source": [
    "#CORRECTION \n",
    "\n",
    "def affichePlurielOuNon(nombre, mot):\n",
    "    if nombre >  1:\n",
    "        print(nombre, mot + \"s\", end=\" \")\n",
    "    elif nombre == 1:\n",
    "        print(nombre, mot, end=\" \")\n",
    "\n",
    "def afficheTemps(temps):\n",
    "    affichePlurielOuNon(temps[0], \"jour\")\n",
    "    affichePlurielOuNon(temps[1], \"heure\")\n",
    "    affichePlurielOuNon(temps[2], \"minute\")\n",
    "    affichePlurielOuNon(temps[3], \"seconde\")\n",
    "\n",
    "afficheTemps((3,0,6,0))"
   ]
  },
  {
   "cell_type": "code",
   "execution_count": null,
   "metadata": {},
   "outputs": [],
   "source": [
    "#Ecrire une fonction qui demande à l'utilisateur de rentrer un nombre de jours, d'heures, de minutes et\n",
    "#de secondes et qui renvoie un temps. Attention, si l'entrée utilisateur n'est pas correcte, par exemple 80 minutes,\n",
    "#redemander à l'utilisateur de choisir un nombre.\n",
    "\n",
    "def demandeTemps():\n",
    "    \"\"\"demande à l'utilisateur de choisir un nb de jour(s), d'heure(s), de minute(s) et de seconde(s)\"\"\"\n",
    "    a = int(input(\"nombre de jours\"))\n",
    "    while a < 0:\n",
    "        a = int(input(\"nombre de jours supérieur à -1\"))\n",
    "    b = int(input(\"nombre d'heures\")) \n",
    "    while b > 24 and b < 0:\n",
    "        b = int(input(\"nombre d'heures avec un nombre inférieur à 24 et supérieur à 0\"))\n",
    "    c = int(input(\"nombre de minutes\"))\n",
    "    while c > 60 and c < 0:\n",
    "        c = int(input(\"nombre de minutes avec un nombre inférieur à 60 et supérieur à 0\"))\n",
    "    d = int(input(\"nombre de secondes\"))\n",
    "    while d > 60 and d < 0:\n",
    "        d = int(input(\"nombre de secondes avec un nombre inférieur à 60 et supérieur à 0\"))\n",
    "\n",
    "    return (a,b,c,d)\n",
    "\n",
    "afficheTemps(demandeTemps())"
   ]
  },
  {
   "cell_type": "code",
   "execution_count": null,
   "metadata": {},
   "outputs": [],
   "source": [
    "#On veut être capable d'additionner deux temps. Donner une fonction qui fait ce calcul,\n",
    "#en utilisant les fonctions précédentes.\n",
    "\n",
    "def sommeTemps(temps1,temps2):\n",
    "    \"\"\"additionne deux temps\"\"\"\n",
    "    a = (tempsEnSeconde(temps1) + tempsEnSeconde(temps2))\n",
    "    return secondeEnTemps(a)\n",
    "\n",
    "sommeTemps((2,3,4,25),(5,22,57,1))"
   ]
  },
  {
   "cell_type": "code",
   "execution_count": null,
   "metadata": {},
   "outputs": [],
   "source": [
    "#On veut maintenant calculer un pourcentage d'un temps. Par exemple, 20% de 2 jours et 36 minutes correspond à 9 heures, 43 minutes et 12 secondes.\n",
    "#Implémenter la fonction `proportionTemps` puis appeler cette fonction en échangeant l'ordre des arguments mais en les nommant.\n",
    "\n",
    "def proportionTemps(temps,proportion):\n",
    "    \"\"\"calcul d'un pourcerntage d'un temps\"\"\"\n",
    "    a = int((tempsEnSeconde(temps) * proportion))\n",
    "    return secondeEnTemps(a)\n",
    "\n",
    "afficheTemps(proportionTemps((2,0,36,0),0.2))\n",
    "print(\"\")\n",
    "#appeler la fonction en échangeant l'ordre des arguments\n",
    "\n",
    "afficheTemps(proportionTemps(proportion = 0.2, temps = (2,0,36,0)))\n"
   ]
  },
  {
   "cell_type": "code",
   "execution_count": null,
   "metadata": {},
   "outputs": [],
   "source": [
    "#On veut maintenant afficher un temps sous forme de date, en supposant que le temps 0 est le 1 janvier 1970 à 00:00:00.\n",
    "\n",
    "#* Implémenter une fonction `tempsEnDate`qui donne la date sous la forme (année, jour, heure, minute, seconde).\n",
    "#* Implémenter la fonction `afficheDate`qui affiche la date. \n",
    "#* (Optionnel) Gérer également les mois.\n",
    "\n",
    "def tempsEnDate(temps):\n",
    "    annee = temps[0] // 365 + 1970\n",
    "    jours_restants = temps[0] % 365\n",
    "    return annee, jours_restants, temps[1], temps[2], temps[3]\n",
    "\n",
    "def afficheDate(date = -1):\n",
    "    #if date == -1: print('pas de paramètres date donné')\n",
    "    print(date[1], end=\"\")\n",
    "    print(date[0], end=\"\")\n",
    "    \n",
    "   \n",
    "    \n",
    "temps = secondeEnTemps(1000000000)\n",
    "print(temps)\n",
    "\n",
    "print(\"\")\n",
    "\n",
    "print(tempsEnDate(temps))\n",
    "\n",
    "afficheDate(tempsEnDate(temps))\n",
    "afficheDate()\n",
    "\n",
    "\n"
   ]
  },
  {
   "cell_type": "code",
   "execution_count": null,
   "metadata": {},
   "outputs": [],
   "source": [
    "#CORRECTION :\n",
    "def tempsEnDate(temps):\n",
    "    annee = temps[0] // 365 + 1970\n",
    "    jours_restants = temps[0] % 365\n",
    "    return annee, jours_restants, temps[1], temps[2], temps[3]\n",
    "\n",
    "print(tempsEnDate((400, 0, 6, 0)))\n",
    "\n",
    "def afficheDate(date = -1):\n",
    "    #if date == -1: print('pas de paramètres date donné')\n",
    "    print(date[1], end=\"\")\n",
    "    print(date[0], end=\"\")"
   ]
  }
 ],
 "metadata": {
  "interpreter": {
   "hash": "385ec2fc4019c634830f3dccfcb550895a33660b3df9ea11f796c16253854c19"
  },
  "kernelspec": {
   "display_name": "Python 3.9.5 64-bit ('base': conda)",
   "name": "python3"
  },
  "language_info": {
   "codemirror_mode": {
    "name": "ipython",
    "version": 3
   },
   "file_extension": ".py",
   "mimetype": "text/x-python",
   "name": "python",
   "nbconvert_exporter": "python",
   "pygments_lexer": "ipython3",
   "version": "3.9.5"
  },
  "orig_nbformat": 4
 },
 "nbformat": 4,
 "nbformat_minor": 2
}
