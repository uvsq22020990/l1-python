{
 "cells": [
  {
   "cell_type": "code",
   "execution_count": 16,
   "metadata": {},
   "outputs": [
    {
     "name": "stdout",
     "output_type": "stream",
     "text": [
      "<class 'tuple'>\n",
      "342094\n"
     ]
    }
   ],
   "source": [
    "#Créer la fonction qui prend comme argument le temps et renvoie le nombre de seconde total correspondant à ce temps.\n",
    "\n",
    "def tempsEnSeconde(temps):\n",
    "    \"\"\"Renvoie la valeur en seconde de temps donné comme jour, heure, minute, seconde.\"\"\"\n",
    "    return temps[0]*24*60*60+temps[1]*60*60+temps[2]*60+temps[3]\n",
    "\n",
    "temps = (3,23,1,34)\n",
    "print(type(temps))\n",
    "print(tempsEnSeconde(temps))  #on donne à la fonction un arguments : tuples (c'est le temps) et me retourne un nombre de secondes"
   ]
  },
  {
   "cell_type": "code",
   "execution_count": 17,
   "metadata": {},
   "outputs": [
    {
     "name": "stdout",
     "output_type": "stream",
     "text": [
      "(1, 3, 46, 40)\n",
      "1 jours 3 heures 46 minutes 40 secondes\n"
     ]
    }
   ],
   "source": [
    "##Créer la fonction qui prend un nombre de secondes et renvoie le temps correspondant.\n",
    "\n",
    "def secondeEnTemps(seconde):\n",
    "    \"\"\"Renvoie le temps (jour, heure, minute, seconde) qui correspond au nombre de seconde passé en argument\"\"\"\n",
    "    jour = int(seconde / (24*60*60))\n",
    "    seconde = seconde % (24*60*60)\n",
    "    heures = int(seconde / (60*60))\n",
    "    seconde = seconde % (60*60)\n",
    "    minutes = int(seconde / 60)\n",
    "    secs = seconde % 60\n",
    "    return (jour, heures, minutes, secs)\n",
    "\n",
    "assert secondeEnTemps(tempsEnSeconde((3,5,6,8))) == (3,5,6,8)\n",
    "\n",
    "temps = secondeEnTemps(100000)\n",
    "print(temps)\n",
    "print(temps[0],\"jours\",temps[1],\"heures\",temps[2],\"minutes\",temps[3],\"secondes\")"
   ]
  },
  {
   "cell_type": "code",
   "execution_count": 18,
   "metadata": {},
   "outputs": [
    {
     "name": "stdout",
     "output_type": "stream",
     "text": [
      "\n"
     ]
    }
   ],
   "source": [
    "#Vous pouvez écrire une fonction qui affiche un mot au pluriel ou non, appelée ensuite plusieurs fois par `afficheTemps` pour simplifier votre code.\n",
    "\n",
    "def pluriel(chaine,valeur):\n",
    "    \"\"\"Détermine si une valeur doit être écrite au pluriel ou non\"\"\"\n",
    "    if valeur > 1:\n",
    "        return str(valeur) + \" \" + chaine+\"s\"\n",
    "    elif valeur == 0:\n",
    "        return \"\"\n",
    "    else:\n",
    "        return str(valeur) + \" \" + chaine\n",
    "   \n",
    "temps = (1,0,14,13) \n",
    "print(pluriel(\"jour\", 0))\n",
    "        "
   ]
  },
  {
   "cell_type": "code",
   "execution_count": 19,
   "metadata": {},
   "outputs": [
    {
     "name": "stdout",
     "output_type": "stream",
     "text": [
      "mon temps est: 2 jours  14 minutes 23 secondes\n"
     ]
    }
   ],
   "source": [
    "#Créer une fonction d'affichage d'un temps `afficheTemps`. \n",
    "#Attention, les mots jour, heure et seconde doivent être au pluriel s'il y en a plusieurs. S'il y en a zéro, ils ne doivent pas apparaître.\n",
    "#print(message, end=\"\")` permet de ne pas sauter une ligne après un print.\n",
    "\n",
    "def afficheTemps(temps):\n",
    "    \"\"\"Affiche une phrase qui indique à quoi chaque valeur de mon tuples (la valeur de temps) correspond\"\"\"\n",
    "    print(\"mon temps est:\", pluriel(\"jour\",temps[0]), pluriel(\"heure\",temps[1]), pluriel(\"minute\",temps[2]), pluriel(\"seconde\",temps[3]))\n",
    "    \n",
    "afficheTemps((2,0,14,23))  "
   ]
  },
  {
   "cell_type": "code",
   "execution_count": 20,
   "metadata": {},
   "outputs": [
    {
     "name": "stdout",
     "output_type": "stream",
     "text": [
      "3 jours 6 minutes "
     ]
    }
   ],
   "source": [
    "#CORRECTION \n",
    "\n",
    "def affichePlurielOuNon(nombre, mot):\n",
    "    if nombre >  1:\n",
    "        print(nombre, mot + \"s\", end=\" \")\n",
    "    elif nombre == 1:\n",
    "        print(nombre, mot, end=\" \")\n",
    "\n",
    "def afficheTemps(temps):\n",
    "    affichePlurielOuNon(temps[0], \"jour\")\n",
    "    affichePlurielOuNon(temps[1], \"heure\")\n",
    "    affichePlurielOuNon(temps[2], \"minute\")\n",
    "    affichePlurielOuNon(temps[3], \"seconde\")\n",
    "\n",
    "afficheTemps((3,0,6,0))"
   ]
  },
  {
   "cell_type": "code",
   "execution_count": 21,
   "metadata": {},
   "outputs": [
    {
     "name": "stdout",
     "output_type": "stream",
     "text": [
      "1 jour 1 heure 1 minute 1 seconde "
     ]
    }
   ],
   "source": [
    "#Ecrire une fonction qui demande à l'utilisateur de rentrer un nombre de jours, d'heures, de minutes et\n",
    "#de secondes et qui renvoie un temps. Attention, si l'entrée utilisateur n'est pas correcte, par exemple 80 minutes,\n",
    "#redemander à l'utilisateur de choisir un nombre.\n",
    "\n",
    "def demandeTemps():\n",
    "    \"\"\"demande à l'utilisateur de choisir un nb de jour(s), d'heure(s), de minute(s) et de seconde(s)\"\"\"\n",
    "    a = int(input(\"nombre de jours\"))\n",
    "    while a < 0:\n",
    "        a = int(input(\"nombre de jours supérieur à -1\"))\n",
    "    b = int(input(\"nombre d'heures\")) \n",
    "    while b > 24 and b < 0:\n",
    "        b = int(input(\"nombre d'heures avec un nombre inférieur à 24 et supérieur à 0\"))\n",
    "    c = int(input(\"nombre de minutes\"))\n",
    "    while c > 60 and c < 0:\n",
    "        c = int(input(\"nombre de minutes avec un nombre inférieur à 60 et supérieur à 0\"))\n",
    "    d = int(input(\"nombre de secondes\"))\n",
    "    while d > 60 and d < 0:\n",
    "        d = int(input(\"nombre de secondes avec un nombre inférieur à 60 et supérieur à 0\"))\n",
    "\n",
    "    return (a,b,c,d)\n",
    "\n",
    "afficheTemps(demandeTemps())"
   ]
  },
  {
   "cell_type": "code",
   "execution_count": 22,
   "metadata": {},
   "outputs": [
    {
     "data": {
      "text/plain": [
       "(8, 2, 1, 26)"
      ]
     },
     "execution_count": 22,
     "metadata": {},
     "output_type": "execute_result"
    }
   ],
   "source": [
    "#On veut être capable d'additionner deux temps. Donner une fonction qui fait ce calcul,\n",
    "#en utilisant les fonctions précédentes.\n",
    "\n",
    "def sommeTemps(temps1,temps2):\n",
    "    \"\"\"additionne deux temps\"\"\"\n",
    "    a = (tempsEnSeconde(temps1) + tempsEnSeconde(temps2))\n",
    "    return secondeEnTemps(a)\n",
    "\n",
    "sommeTemps((2,3,4,25),(5,22,57,1))"
   ]
  },
  {
   "cell_type": "code",
   "execution_count": 23,
   "metadata": {},
   "outputs": [
    {
     "name": "stdout",
     "output_type": "stream",
     "text": [
      "9 heures 43 minutes 12 secondes \n",
      "9 heures 43 minutes 12 secondes "
     ]
    }
   ],
   "source": [
    "#On veut maintenant calculer un pourcentage d'un temps. Par exemple, 20% de 2 jours et 36 minutes correspond à 9 heures, 43 minutes et 12 secondes.\n",
    "#Implémenter la fonction `proportionTemps` puis appeler cette fonction en échangeant l'ordre des arguments mais en les nommant.\n",
    "\n",
    "def proportionTemps(temps,proportion):\n",
    "    \"\"\"calcul d'un pourcerntage d'un temps\"\"\"\n",
    "    a = int((tempsEnSeconde(temps) * proportion))\n",
    "    return secondeEnTemps(a)\n",
    "\n",
    "afficheTemps(proportionTemps((2,0,36,0),0.2))\n",
    "print(\"\")\n",
    "#appeler la fonction en échangeant l'ordre des arguments\n",
    "\n",
    "afficheTemps(proportionTemps(proportion = 0.2, temps = (2,0,36,0)))\n"
   ]
  },
  {
   "cell_type": "code",
   "execution_count": 34,
   "metadata": {},
   "outputs": [
    {
     "name": "stdout",
     "output_type": "stream",
     "text": [
      "(11574, 1, 46, 40)\n",
      "\n",
      "(2001, 259, 1, 46, 40)\n",
      "l'année est : 2001 le jour est: 259 l'heure: 1 les minutes: 46 les secondes: 40\n",
      "pas de paramètre assigné\n"
     ]
    }
   ],
   "source": [
    "#On veut maintenant afficher un temps sous forme de date, en supposant que le temps 0 est le 1 janvier 1970 à 00:00:00.\n",
    "\n",
    "#* Implémenter une fonction `tempsEnDate`qui donne la date sous la forme (année, jour, heure, minute, seconde).\n",
    "#* Implémenter la fonction `afficheDate`qui affiche la date. \n",
    "#* (Optionnel) Gérer également les mois.\n",
    "\n",
    "def tempsEnDate(temps):\n",
    "    \"\"\" Retourne un tuple contenant la date obtenue en ajoutant la\n",
    "        durée stockée dans le paramètre temps au 1er Janvier 1970.\n",
    "        Ne prend pas en compte les années bisextiles.\"\"\"\n",
    "    annee = temps[0] // 365 + 1970\n",
    "    jours_restants = temps[0] % 365\n",
    "    return annee, jours_restants, temps[1], temps[2], temps[3]\n",
    "\n",
    "def afficheDate(date = -1):\n",
    "    \"\"\" Affiche la date passée en paramètre. Si aucune date n'est passée,\n",
    "        affiche la date du jour.\"\"\"\n",
    "    #if date == -1: print('pas de paramètres date donné')\n",
    "    if date == -1:\n",
    "        print(\"pas de paramètre assigné\")\n",
    "    else:\n",
    "        print(\"l'année est :\", date[0], \"le jour est:\", date[1], \"l'heure:\", date[2], \"les minutes:\", date[3], \"les secondes:\", date[4])\n",
    "       \n",
    "       \n",
    "       \n",
    " #les éléments de la date sont les suivants:\n",
    " # print(date[1], end=\"\")\n",
    " #print(date[0], end=\"\")\n",
    "\n",
    "temps = secondeEnTemps(1000000000)\n",
    "print(temps)\n",
    "\n",
    "print(\"\")\n",
    "print(tempsEnDate(temps))\n",
    "\n",
    "afficheDate(tempsEnDate(temps))\n",
    "afficheDate()\n",
    "\n",
    "\n",
    "\n"
   ]
  },
  {
   "cell_type": "code",
   "execution_count": 25,
   "metadata": {},
   "outputs": [
    {
     "ename": "IndentationError",
     "evalue": "unexpected indent (Temp/ipykernel_8888/3390813101.py, line 11)",
     "output_type": "error",
     "traceback": [
      "\u001b[1;36m  File \u001b[1;32m\"C:\\Users\\ibrah\\AppData\\Local\\Temp/ipykernel_8888/3390813101.py\"\u001b[1;36m, line \u001b[1;32m11\u001b[0m\n\u001b[1;33m    print(date[1], end=\"\")\u001b[0m\n\u001b[1;37m    ^\u001b[0m\n\u001b[1;31mIndentationError\u001b[0m\u001b[1;31m:\u001b[0m unexpected indent\n"
     ]
    }
   ],
   "source": [
    "#CORRECTION :\n",
    "def tempsEnDate(temps):\n",
    "    annee = temps[0] // 365 + 1970\n",
    "    jours_restants = temps[0] % 365\n",
    "    return annee, jours_restants, temps[1], temps[2], temps[3]\n",
    "\n",
    "print(tempsEnDate((400, 0, 6, 0)))\n",
    "\n",
    "def afficheDate(date = -1):\n",
    "    #if date == -1: print('pas de paramètres date donné')\n",
    "    print(date[1], end=\"\")\n",
    "    print(date[0], end=\"\")"
   ]
  },
  {
   "cell_type": "code",
   "execution_count": null,
   "metadata": {},
   "outputs": [
    {
     "name": "stdout",
     "output_type": "stream",
     "text": [
      "2074 et 290\n",
      "2020\n",
      "2024\n",
      "2028\n",
      "2032\n",
      "2036\n",
      "2040\n",
      "2044\n",
      "2048\n",
      "2052\n",
      "2056\n",
      "2060\n",
      "2064\n",
      "2068\n",
      "2072\n"
     ]
    }
   ],
   "source": [
    "#Attention, tous les 4 ans les années sont bisextiles (un jour de plus) sauf les multiples de 100 qui ne sont pas des multiples de 400.\n",
    "#Donner un code qui prend un nombre de jours et affiche toutes les années bisextiles depuis 1 janvier 2020 à 00:00:00 jusqu'à la fin de ces jours.\n",
    "\n",
    "def bisextile(jour):\n",
    "    annee = (jour//365)+ 2020\n",
    "    jours_restants = jour%365\n",
    "    print(annee,\"et\", jours_restants)\n",
    "    a=str(annee)\n",
    "    b=int(a[1]+a[2]+a[3])-20 #nombre d'années depuis 2020 jusqu'à l'année x\n",
    "    for i in range(0,b+1,4): #pas de 4 pour imprimer toutes les 4 années\n",
    "        if not(((2020+i)%100) == 0 and ((2020+i))%400 != 0): #même chose que((2020+i)%100) != 0 or ((2020+i))%400 == 0: car loi de de Morgan,\n",
    "            #j'imprime toutes les années 4 en 4 sauf celles qui sont multiples de 100 et non multiples de 400\n",
    "            print(2020+i)\n",
    "        \n",
    "\n",
    "bisextile(20000)\n",
    "# bisextile(200000) l'année 2100 n'est pas print donc programme correct"
   ]
  },
  {
   "cell_type": "code",
   "execution_count": null,
   "metadata": {},
   "outputs": [],
   "source": [
    "#CORRECTION :\n",
    "def bisextile(jours: int):\n",
    "    \"\"\" Affiche toutes les années bisextiles entre le 1er Janvier 1970\n",
    "        et le nombre de jours passé en paramètre.\"\"\"\n",
    "    annee = 1970\n",
    "    while(jours >= 365):\n",
    "        if annee % 4 == 0 and (annee % 100 != 0 or annee % 400 == 0):\n",
    "            print(\"L'année \" + str(annee) + \" est bisextile\")\n",
    "            jours -= 366\n",
    "        else:\n",
    "            jours -= 365\n",
    "        annee += 1"
   ]
  },
  {
   "cell_type": "code",
   "execution_count": 27,
   "metadata": {},
   "outputs": [
    {
     "name": "stdout",
     "output_type": "stream",
     "text": [
      "3\n"
     ]
    }
   ],
   "source": [
    "#Implémenter une fonction `nombreBisextile` qui calcule le nombre d'années bisextiles pour un nombre de jour donnés pour corriger votre \n",
    "#fonction de calcul de la date. CAR AFFICHE EN DATE CONSIDERE QUE ANNEE = 365 JOURS ET NON 366 TOUT LES 4 JOURS\n",
    "\n",
    "def nombreBisextile(jour):\n",
    "    \"\"\" Retourne le nombre d'années bisextiles entre le 1er Janvier 1970\n",
    "    et le nombre de jours passé en paramètre.\"\"\"\n",
    "    annee =  1970\n",
    "    compteur = 0\n",
    "    while jour >= 365:\n",
    "        if annee % 4 == 0 and (annee % 100 != 0 or annee % 400 == 0):\n",
    "            jour = jour - 366\n",
    "            compteur += 1\n",
    "            annee +=1\n",
    "        else:\n",
    "            jour = jour - 365 \n",
    "            annee += 1\n",
    "    return compteur\n",
    "    \n",
    "print(nombreBisextile(4760))"
   ]
  },
  {
   "cell_type": "code",
   "execution_count": 35,
   "metadata": {},
   "outputs": [
    {
     "name": "stdout",
     "output_type": "stream",
     "text": [
      "4629 jours 15 heures 6 minutes 40 secondes \n",
      "l'année est : 1982 le jour est: 246 l'heure: 15 les minutes: 6 les secondes: 40\n",
      "l'année est : 1982 le jour est: 249 l'heure: 15 les minutes: 6 les secondes: 40\n"
     ]
    }
   ],
   "source": [
    "def tempsEnDateBisextile(temps):\n",
    "    \"\"\" Retourne un tuple contenant la date obtenue en ajoutant la\n",
    "        durée stockée dans le paramètre temps au 1er Janvier 1970,\n",
    "        en prenant en compte les années bisextiles.\"\"\"\n",
    "    jours = temps[0]\n",
    "    jours_ajuste = jours - nombreBisextile(jours) #on enlève les jours comptées en trop dû aux années bisextilles\n",
    "    return tempsEnDate((jours_ajuste, temps[1], temps[2], temps[3]))\n",
    "   \n",
    "temps = secondeEnTemps(400000000) #temps sous la forme (jours, heures, minutes, secondes)\"\n",
    "afficheTemps(temps)\n",
    "print(\" \")\n",
    "afficheDate(tempsEnDateBisextile(temps))\n",
    "afficheDate(tempsEnDate(temps))"
   ]
  },
  {
   "cell_type": "code",
   "execution_count": null,
   "metadata": {},
   "outputs": [],
   "source": [
    "#Donner une fonction qui vérifie la charge horaire d'un employé, donnée sous forme d'une liste de temps travaillé chaque semaine dans un mois. \n",
    "#Il ne faut pas dépasser 48h par semaine et 140h par mois (qu'on considère ici de 4 semaines).\n",
    "#(Optionnel) S'adapter à une liste qui peut contenir plusieurs mois.\n",
    "\n",
    "def verifie(liste_temps):\n",
    "    pass\n",
    "\n",
    "\n",
    "liste_temps = [[1,2,39,34],[0,1,9,4],[0,29,39,51],[0,31,13,46]]\n",
    "verifie(liste_temps)"
   ]
  }
 ],
 "metadata": {
  "interpreter": {
   "hash": "385ec2fc4019c634830f3dccfcb550895a33660b3df9ea11f796c16253854c19"
  },
  "kernelspec": {
   "display_name": "Python 3.9.5 64-bit ('base': conda)",
   "name": "python3"
  },
  "language_info": {
   "codemirror_mode": {
    "name": "ipython",
    "version": 3
   },
   "file_extension": ".py",
   "mimetype": "text/x-python",
   "name": "python",
   "nbconvert_exporter": "python",
   "pygments_lexer": "ipython3",
   "version": "3.9.5"
  },
  "orig_nbformat": 4
 },
 "nbformat": 4,
 "nbformat_minor": 2
}
