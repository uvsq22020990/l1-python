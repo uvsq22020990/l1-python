{
 "cells": [
  {
   "cell_type": "code",
   "execution_count": null,
   "metadata": {},
   "outputs": [],
   "source": [
    "def tempsEnSeconde(temps):\n",
    "    \"\"\"Renvoie la valeur en seconde de temps donné comme jour, heure, minute, seconde.\"\"\"\n",
    "    return temps[0]*24*60*60+temps[1]*60*60+temps[2]*60+temps[3]\n",
    "\n",
    "temps = (3,23,1,34)\n",
    "print(type(temps))\n",
    "print(tempsEnSeconde(temps))  #on donne à la fonction un arguments : tuples (c'est le temps) et me retourne un nombre de secondes"
   ]
  },
  {
   "cell_type": "code",
   "execution_count": null,
   "metadata": {},
   "outputs": [],
   "source": [
    "def secondeEnTemps(seconde):\n",
    "    \"\"\"Renvoie le temps (jour, heure, minute, seconde) qui correspond au nombre de seconde passé en argument\"\"\"\n",
    "    jour = int(seconde / (24*60*60))\n",
    "    seconde = seconde % (24*60*60)\n",
    "    heures = int(seconde / (60*60))\n",
    "    seconde = seconde % (60*60)\n",
    "    minutes = int(seconde / 60)\n",
    "    secs = seconde % 60\n",
    "    return (jour, heures, minutes, secs)\n",
    "\n",
    "assert secondeEnTemps(tempsEnSeconde((3,5,6,8))) == (3,5,6,8)\n",
    "\n",
    "temps = secondeEnTemps(100000)\n",
    "print(temps)\n",
    "print(temps[0],\"jours\",temps[1],\"heures\",temps[2],\"minutes\",temps[3],\"secondes\")"
   ]
  },
  {
   "cell_type": "code",
   "execution_count": 92,
   "metadata": {},
   "outputs": [
    {
     "name": "stdout",
     "output_type": "stream",
     "text": [
      "\n"
     ]
    }
   ],
   "source": [
    "def pluriel(chaine,valeur):\n",
    "    \"\"\"Détermine si une valeur doit être écrite au pluriel ou non\"\"\"\n",
    "    if valeur > 1:\n",
    "        return str(valeur) + \" \" + chaine+\"s\"\n",
    "    elif valeur == 0:\n",
    "        return \"\"\n",
    "    else:\n",
    "        return str(valeur) + \" \" + chaine\n",
    "   \n",
    "temps = (1,0,14,13) \n",
    "print(pluriel(\"jour\", 0))\n",
    "        "
   ]
  },
  {
   "cell_type": "code",
   "execution_count": 93,
   "metadata": {},
   "outputs": [
    {
     "name": "stdout",
     "output_type": "stream",
     "text": [
      "mon temps est: 2 jours  14 minutes 23 secondes\n"
     ]
    }
   ],
   "source": [
    "def afficheTemps(temps):\n",
    "    \"\"\"Affiche une phrase qui indique à quoi chaque valeur de mon tuples (la valeur de temps) correspond\"\"\"\n",
    "    print(\"mon temps est:\", pluriel(\"jour\",temps[0]), pluriel(\"heure\",temps[1]), pluriel(\"minute\",temps[2]), pluriel(\"seconde\",temps[3]))\n",
    "    \n",
    "afficheTemps((2,0,14,23))  "
   ]
  },
  {
   "cell_type": "code",
   "execution_count": null,
   "metadata": {},
   "outputs": [],
   "source": [
    "#CORRECTION \n",
    "\n",
    "def affichePlurielOuNon(nombre, mot):\n",
    "    if nombre >  1:\n",
    "        print(nombre, mot + \"s\", end=\" \")\n",
    "    elif nombre == 1:\n",
    "        print(nombre, mot, end=\" \")\n",
    "\n",
    "def afficheTemps(temps):\n",
    "    affichePlurielOuNon(temps[0], \"jour\")\n",
    "    affichePlurielOuNon(temps[1], \"heure\")\n",
    "    affichePlurielOuNon(temps[2], \"minute\")\n",
    "    affichePlurielOuNon(temps[3], \"seconde\")\n",
    "\n",
    "afficheTemps((3,0,6,0))"
   ]
  },
  {
   "cell_type": "code",
   "execution_count": 94,
   "metadata": {},
   "outputs": [
    {
     "name": "stdout",
     "output_type": "stream",
     "text": [
      "mon temps est: 1 jour 2 heures 3 minutes 4 secondes\n"
     ]
    }
   ],
   "source": [
    "def demandeTemps():\n",
    "    \"\"\"demande à l'utilisateur de choisir un nb de jour(s), d'heure(s), de minute(s) et de seconde(s)\"\"\"\n",
    "    a = int(input(\"nombre de jours\"))\n",
    "    b = int(input(\"nombre d'heures\")) #tester valeur négative\n",
    "    while b > 24:\n",
    "        b = int(input(\"nombre d'heures avec un nombre inférieur à 60\"))\n",
    "    c = int(input(\"nombre de minutes\"))\n",
    "    while c > 60:\n",
    "        c = int(input(\"nombre de minutes avec un nombre inférieur à 60\"))\n",
    "    d = int(input(\"nombre de secondes\"))\n",
    "    while d > 60:\n",
    "        d = int(input(\"nombre de secondes avec un nombre inférieur à 60\"))\n",
    "\n",
    "    return (a,b,c,d)\n",
    "\n",
    "afficheTemps(demandeTemps())"
   ]
  },
  {
   "cell_type": "code",
   "execution_count": null,
   "metadata": {},
   "outputs": [],
   "source": [
    "#Méthode numéro 1 avec fonctions précédente :\n",
    "def sommeTemps(temps1,temps2):\n",
    "    \"\"\"additionne deux temps\"\"\"\n",
    "    a = (tempsEnSeconde(temps1) + tempsEnSeconde(temps2))\n",
    "    return secondeEnTemps(a)\n",
    "\n",
    "sommeTemps((2,3,4,25),(5,22,57,1))"
   ]
  },
  {
   "cell_type": "code",
   "execution_count": 95,
   "metadata": {},
   "outputs": [
    {
     "name": "stdout",
     "output_type": "stream",
     "text": [
      "mon temps est:  9 heures 43 minutes 12 secondes\n"
     ]
    }
   ],
   "source": [
    "def proportionTemps(temps,proportion):\n",
    "    \"\"\"calcul d'un pourcerntage d'un temps\"\"\"\n",
    "    a = int((tempsEnSeconde(temps) * proportion))\n",
    "    return secondeEnTemps(a)\n",
    "\n",
    "afficheTemps(proportionTemps((2,0,36,0),0.2))\n",
    "#appeler la fonction en échangeant l'ordre des arguments\n",
    "\n"
   ]
  },
  {
   "cell_type": "code",
   "execution_count": null,
   "metadata": {},
   "outputs": [],
   "source": [
    "def tempsEnDate(temps):\n",
    "    pass\n",
    "\n",
    "def afficheDate(date = -1):\n",
    "    pass\n",
    "    \n",
    "temps = secondeEnTemps(1000000000)\n",
    "afficheTemps(temps)\n",
    "afficheDate(tempsEnDate(temps))\n",
    "afficheDate()\n",
    "\n",
    "#CORRECTION :\n",
    "def tempsEnDate(temps):\n",
    "    annee = temps[0] // 365 + 1970\n",
    "    jours_restants = temps[0] % 365\n",
    "    return annee, jours_restants, temps[1], temps[2], temps[3]\n",
    "\n",
    "print(tempsEnDate((400, 0, 6, 0)))\n",
    "\n",
    "def afficheDate(date = -1):\n",
    "    #if date == -1: print('pas de paramètres date donné')\n",
    "    print(date[1], end=\"\")\n",
    "    print(date[0], end=\"\")\n",
    "\n"
   ]
  },
  {
   "cell_type": "code",
   "execution_count": null,
   "metadata": {},
   "outputs": [],
   "source": []
  }
 ],
 "metadata": {
  "interpreter": {
   "hash": "385ec2fc4019c634830f3dccfcb550895a33660b3df9ea11f796c16253854c19"
  },
  "kernelspec": {
   "display_name": "Python 3.9.5 64-bit ('base': conda)",
   "name": "python3"
  },
  "language_info": {
   "codemirror_mode": {
    "name": "ipython",
    "version": 3
   },
   "file_extension": ".py",
   "mimetype": "text/x-python",
   "name": "python",
   "nbconvert_exporter": "python",
   "pygments_lexer": "ipython3",
   "version": "3.9.5"
  },
  "orig_nbformat": 4
 },
 "nbformat": 4,
 "nbformat_minor": 2
}
