{
 "cells": [
  {
   "cell_type": "code",
   "execution_count": 83,
   "metadata": {},
   "outputs": [],
   "source": [
    "\"\"\"dessins aléatoire question 1\"\"\"\n",
    "\n",
    "import tkinter as tk\n",
    "\n",
    "racine = tk.Tk() # Création de la fenêtre racine\n",
    "\n",
    "racine.title(\"mon dessin\")\n",
    "label1 = tk.Button(racine, text=\"choisir une couleur\", font=(\"helvetica\", \"10\")) # création du widget\n",
    "label2 = tk.Button(racine, text=\"cercle\", font = (\"helvetica\", \"10\"))\n",
    "label3 = tk.Button(racine, text=\"carré\", font = (\"helvetica\", \"10\"))\n",
    "label4 = tk.Button(racine, text=\"croix\", font = (\"helvetica\", \"10\"))\n",
    "canvas = tk.Canvas(racine, bg=\"black\", height=500, width=500)\n",
    "\n",
    "label1.grid(column = 1, columnspan=5, row=0)\n",
    "label2.grid(column=0, row=1)\n",
    "label3.grid(column=0, row=2)\n",
    "label4.grid(column=0, row=3)\n",
    "canvas.grid(column=1, row= 1, rowspan=3)\n",
    "\n",
    "racine.mainloop() # Lancement de la boucle principale"
   ]
  },
  {
   "cell_type": "code",
   "execution_count": 57,
   "metadata": {},
   "outputs": [],
   "source": [
    "\"\"\"2. Modifier le style par défaut des boutons, par exemple, en modifiant les couleurs, \n",
    "en ajoutant des marges, en changeant la taille de la police. Pour savoir ce qu'il est possible de faire, \n",
    "consultez le site indiqué au début du sujet.\"\"\"\n",
    "\n",
    "\n",
    "racine = tk.Tk() # Création de la fenêtre racine\n",
    "\n",
    "racine.title(\"mon dessin\")\n",
    "label1 = tk.Button(racine, bg=\"rosy brown\", fg=\"red\",text=\"choisir une couleur\",borderwidth=5, relief=\"groove\", font=(\"helvetica\", \"19\")) \n",
    "label2 = tk.Button(racine, bg=\"medium slate blue\",text=\"cercle\", borderwidth=5, relief=\"groove\", font = (\"new roman\", \"10\"))\n",
    "label3 = tk.Button(racine, bg=\"deep sky blue\", text=\"carré\", borderwidth=5, relief=\"groove\", font = (\"new roman\", \"10\"))\n",
    "label4 = tk.Button(racine, bg=\"lightblue1\", text=\"croix\",borderwidth=5, relief=\"groove\",font = (\"new_roman\", \"10\"))\n",
    "canvas = tk.Canvas(racine, bg=\"black\", height=500, width=500)\n",
    "\n",
    "label1.grid(column = 1, columnspan=5, row=0)\n",
    "label2.grid(column=0, row=1)\n",
    "label3.grid(column=0, row=2)\n",
    "label4.grid(column=0, row=3)\n",
    "canvas.grid(column=1, row= 1, rowspan=3)\n",
    "\n",
    "racine.mainloop() # Lancement de la boucle principale"
   ]
  },
  {
   "cell_type": "code",
   "execution_count": null,
   "metadata": {},
   "outputs": [],
   "source": [
    "\"\"\"3. Dans les paramètres de création du canevas, chercher comment augmenter l'épaisseur du bord du widget, \n",
    "et comment le mettre en relief. Puis faites le.\"\"\"\n",
    "\n",
    "# borderwidth = x --> épaisseur\n",
    "# relief = \"choix du style\" --> relief"
   ]
  },
  {
   "cell_type": "code",
   "execution_count": 91,
   "metadata": {},
   "outputs": [],
   "source": [
    "\"\"\"4. Ajouter un lien (paramètre `command` du widget Button) entre le bouton `Cercle` et\n",
    "une fonction qui affiche un disque de diamètre 100 en bleu à un endroit choisi au hasard dans le canevas.\n",
    "Le cercle doit être inclu intégralement dans le canevas.\"\"\"\n",
    "import random\n",
    "\n",
    "def affichage():\n",
    "    a1=random.randint(0,400)  #jusquà 400 car on rajoute 100, et on ne veut pas dépasser la canvas de 500x500\n",
    "    a2=random.randint(0,400)\n",
    "    canvas.create_oval((a1+100,a2+100,a1,a2), fill=\"steel blue\", width=5, outline=\"dark turquoise\")\n",
    "    canvas.grid()\n",
    "\n",
    "\n",
    "\n",
    "racine = tk.Tk() # Création de la fenêtre racine\n",
    "\n",
    "racine.title(\"mon dessin\")\n",
    "label1 = tk.Button(racine, bg=\"rosy brown\", fg=\"red\",text=\"choisir une couleur\",borderwidth=5, relief=\"groove\",\\\n",
    " font=(\"helvetica\", \"19\")) \n",
    "label2 = tk.Button(racine, bg=\"medium slate blue\",text=\"cercle\", command=affichage, borderwidth=5,\\\n",
    "relief=\"groove\", font = (\"new roman\", \"10\"))\n",
    "label3 = tk.Button(racine, bg=\"deep sky blue\", text=\"carré\", borderwidth=5, relief=\"groove\", font = (\"new roman\", \"10\"))\n",
    "label4 = tk.Button(racine, bg=\"lightblue1\", text=\"croix\",borderwidth=5, relief=\"groove\",font = (\"new_roman\", \"10\"))\n",
    "canvas = tk.Canvas(racine, bg=\"black\", height=500, width=500)\n",
    "\n",
    "label1.grid(column = 1, columnspan=5, row=0)\n",
    "label2.grid(column=0, row=1)\n",
    "label3.grid(column=0, row=2)\n",
    "label4.grid(column=0, row=3)\n",
    "canvas.grid(column=1, row= 1, rowspan=3)\n",
    "\n",
    "racine.mainloop() # Lancement de la boucle principale"
   ]
  },
  {
   "cell_type": "code",
   "execution_count": 94,
   "metadata": {},
   "outputs": [],
   "source": [
    "\"\"\"5. Faites pareil pour le bouton `Carré` qui doit afficher un carré rouge de côté 100, et puis pour `Croix` \n",
    "qui doit afficher une croix jaune inscrite dans un carré de côté 100 \n",
    "(les carrés dont on parle ont leur cotés horizontaux et verticaux).\"\"\"\n",
    "\n",
    "def affichage_cercle():\n",
    "    a1=random.randint(0,400)  #jusquà 400 car on rajoute 100, et on ne veut pas dépasser la canvas de 500x500\n",
    "    a2=random.randint(0,400)\n",
    "    canvas.create_oval((a1+100,a2+100,a1,a2), fill=\"steel blue\", width=5, outline=\"dark turquoise\")\n",
    "    canvas.grid()\n",
    "\n",
    "def affichage_carre():\n",
    "    a1=random.randint(0,400) \n",
    "    a2=random.randint(0,400)\n",
    "    canvas.create_rectangle((a1+100,a2+100,a1,a2), fill=\"firebrick4\", width=5, outline=\"chocolate2\")\n",
    "    canvas.grid()\n",
    "\n",
    "racine = tk.Tk() # Création de la fenêtre racine\n",
    "\n",
    "racine.title(\"mon dessin\")\n",
    "label1 = tk.Button(racine, bg=\"rosy brown\", fg=\"red\",text=\"choisir une couleur\",borderwidth=5, relief=\"groove\",\\\n",
    " font=(\"helvetica\", \"19\")) \n",
    "label2 = tk.Button(racine, bg=\"medium slate blue\",text=\"cercle\", command=affichage_cercle, borderwidth=5,\\\n",
    "relief=\"groove\", font = (\"new roman\", \"10\"))\n",
    "label3 = tk.Button(racine, bg=\"deep sky blue\", text=\"carré\", command=affichage_carre, borderwidth=5, relief=\"groove\", font = (\"new roman\", \"10\"))\n",
    "label4 = tk.Button(racine, bg=\"lightblue1\", text=\"croix\",borderwidth=5, relief=\"groove\",font = (\"new_roman\", \"10\"))\n",
    "canvas = tk.Canvas(racine, bg=\"black\", height=500, width=500)\n",
    "\n",
    "label1.grid(column = 1, columnspan=5, row=0)\n",
    "label2.grid(column=0, row=1)\n",
    "label3.grid(column=0, row=2)\n",
    "label4.grid(column=0, row=3)\n",
    "canvas.grid(column=1, row= 1, rowspan=3)\n",
    "\n",
    "racine.mainloop()\n"
   ]
  },
  {
   "cell_type": "code",
   "execution_count": null,
   "metadata": {},
   "outputs": [],
   "source": []
  }
 ],
 "metadata": {
  "interpreter": {
   "hash": "385ec2fc4019c634830f3dccfcb550895a33660b3df9ea11f796c16253854c19"
  },
  "kernelspec": {
   "display_name": "Python 3.9.5 64-bit ('base': conda)",
   "language": "python",
   "name": "python3"
  },
  "language_info": {
   "codemirror_mode": {
    "name": "ipython",
    "version": 3
   },
   "file_extension": ".py",
   "mimetype": "text/x-python",
   "name": "python",
   "nbconvert_exporter": "python",
   "pygments_lexer": "ipython3",
   "version": "3.9.5"
  },
  "orig_nbformat": 4
 },
 "nbformat": 4,
 "nbformat_minor": 2
}
