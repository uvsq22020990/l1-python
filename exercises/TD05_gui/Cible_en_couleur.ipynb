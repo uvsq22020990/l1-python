{
 "cells": [
  {
   "cell_type": "code",
   "execution_count": 1,
   "metadata": {},
   "outputs": [],
   "source": [
    "import tkinter as tk\n",
    "import random\n",
    "racine = tk.Tk()\n",
    "\n",
    "taille_canvas = int(input(\"chosir dimension du tableau\"))\n",
    "nombre_de_cercle = int(input(\"choisir un nombre de cercle\"))\n",
    "\n",
    "canvas = tk.Canvas(racine, bg=\"black\", height=taille_canvas, width=taille_canvas) #par exemple si taille_canvas choisi est 500 alors (500,500)\n",
    "canvas.grid(column=0, row= 0)\n",
    "\n",
    "canvas.create_oval((1,1,taille_canvas,taille_canvas), fill=\"blue\") \n",
    "#attention le rond fait 499 pixel et non 500\n",
    "#cercle de base en (500,500) par ex\n",
    "\n",
    "#on nomme les coordonnées\n",
    "x0=1\n",
    "y0=1\n",
    "x1= taille_canvas #on prend le cerle de base (500)\n",
    "y1 = taille_canvas\n",
    "\n",
    "while x0 < ((taille_canvas//2)-30)  and y0 < ((taille_canvas//2) -30)  and x1 > ((taille_canvas//2) +30) and y1 > ((taille_canvas//2) +30):\n",
    "    #tant la valeur n'est pas atteinte on continue : on prend la moitié ex : 250 et on enlève la taille du dernier rond voulu\n",
    "    L=[\"green\", \"black\", \"yellow\", \"magenta\", \"red\",\"blue\"]\n",
    "    for i in range (0,6):\n",
    "        x0+= ((taille_canvas//2)//nombre_de_cercle)  #on prend le rayon du cercle qu'on divise par le nombre de cerlce --> donne l'épaisseur\n",
    "        y0+= ((taille_canvas//2)//nombre_de_cercle)\n",
    "        x1-= ((taille_canvas//2)//nombre_de_cercle)\n",
    "        y1-= ((taille_canvas//2)//nombre_de_cercle)\n",
    "        canvas.create_oval((x0,y0,x1,y1), fill=L[i], width=0)\n",
    "\n",
    "\n",
    "\n",
    "\n",
    "racine.mainloop()"
   ]
  },
  {
   "cell_type": "code",
   "execution_count": null,
   "metadata": {},
   "outputs": [],
   "source": [
    "import tkinter as tk\n",
    "import random\n",
    "racine = tk.Tk()\n",
    "\n",
    "taille_canvas = int(input(\"chosir dimension du tableau\"))\n",
    "nombre_de_cercle = int(input(\"choisir un nombre de cercle\"))\n",
    "\n",
    "canvas = tk.Canvas(racine, bg=\"black\", height=taille_canvas, width=taille_canvas) #par exemple si taille_canvas choisi est 500 alors (500,500)\n",
    "canvas.grid(column=0, row= 0)\n",
    "\n",
    "canvas.create_oval((1,1,taille_canvas,taille_canvas), fill=\"blue\")\n",
    "#attention le rond fait 499 pixel et non 500\n",
    "#cercle de base en (500,500) par ex\n",
    "\n",
    "#on nomme les coordonnées\n",
    "x0=1\n",
    "y0=1\n",
    "x1= taille_canvas #on prend le cerle de base (500)\n",
    "y1 = taille_canvas\n",
    "a=0\n",
    "\"\"\"attention a vas de 5 en 5 car il est dans une boucle for(0,5) donc a prends les valeurs\n",
    "0,5,10,15,20,25,30 donc le while ne fonctionne que à 5 rond près\"\"\"\n",
    "while a < nombre_de_cercle-1: \n",
    "    #tant que les \"a\" cercles ne sont pas dessiné\n",
    "    L=[\"green\", \"black\", \"yellow\", \"magenta\", \"red\",\"blue\"]\n",
    "    for i in range (0,6):\n",
    "        x0+= ((taille_canvas//2)//nombre_de_cercle)  #on prend le rayon du cercle qu'on divise par le nombre de cerlce --> donne l'épaisseur\n",
    "        y0+= ((taille_canvas//2)//nombre_de_cercle)\n",
    "        x1-= ((taille_canvas//2)//nombre_de_cercle)\n",
    "        y1-= ((taille_canvas//2)//nombre_de_cercle)\n",
    "        canvas.create_oval((x0,y0,x1,y1), fill=L[i], width=0) #par défault width = 1 en black\n",
    "        a+=1 #on compte le nombre de cercle\n",
    "        \n",
    "\n",
    "racine.mainloop()"
   ]
  },
  {
   "cell_type": "code",
   "execution_count": null,
   "metadata": {},
   "outputs": [],
   "source": []
  }
 ],
 "metadata": {
  "interpreter": {
   "hash": "ab31f592d35b0e239154db3e97206cd52e3048ae051ba621a57c5d50520b4e6e"
  },
  "kernelspec": {
   "display_name": "Python 3.9.7 64-bit ('l1-python': conda)",
   "language": "python",
   "name": "python3"
  },
  "language_info": {
   "codemirror_mode": {
    "name": "ipython",
    "version": 3
   },
   "file_extension": ".py",
   "mimetype": "text/x-python",
   "name": "python",
   "nbconvert_exporter": "python",
   "pygments_lexer": "ipython3",
   "version": "3.9.7"
  },
  "orig_nbformat": 4
 },
 "nbformat": 4,
 "nbformat_minor": 2
}
